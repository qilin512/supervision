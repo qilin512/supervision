{
  "nbformat": 4,
  "nbformat_minor": 0,
  "metadata": {
    "colab": {
      "name": "CalculatePI.ipynb",
      "provenance": [],
      "collapsed_sections": [],
      "toc_visible": true,
      "include_colab_link": true
    },
    "kernelspec": {
      "name": "python3",
      "display_name": "Python 3"
    },
    "accelerator": "GPU"
  },
  "cells": [
    {
      "cell_type": "markdown",
      "metadata": {
        "id": "view-in-github",
        "colab_type": "text"
      },
      "source": [
        "<a href=\"https://colab.research.google.com/github/qilin512/supervision/blob/master/CalculatePI.ipynb\" target=\"_parent\"><img src=\"https://colab.research.google.com/assets/colab-badge.svg\" alt=\"Open In Colab\"/></a>"
      ]
    },
    {
      "cell_type": "markdown",
      "metadata": {
        "id": "wpnh-EiBKuFG"
      },
      "source": [
        "# 统计的方法计算PI"
      ]
    },
    {
      "cell_type": "code",
      "metadata": {
        "cellView": "both",
        "id": "QZdK8v9tLLMr"
      },
      "source": [
        "import numpy as np\n",
        "\n",
        "N = 0\n",
        "M = 0\n",
        "\n",
        "P = 100000\n",
        "\n",
        "pi = 0\n",
        "pi_old = 100\n",
        "e = 0.000001\n",
        "\n",
        "k = 0\n",
        "while abs(pi - pi_old) > e:\n",
        "    pi_old = pi\n",
        "    for i in range(1, P):\n",
        "        x = np.random.rand()\n",
        "        y = np.random.rand()\n",
        "        N = N + 1\n",
        "        if (x - 0.5) * (x - 0.5) + (y - 0.5) * (y - 0.5) < 0.25 :\n",
        "            M = M + 1\n",
        "    pi = 4 * M / N\n",
        "    k = k + 1\n",
        "    print(\"The %d th round: pi = %f\" % (k, pi))"
      ],
      "execution_count": null,
      "outputs": []
    },
    {
      "cell_type": "code",
      "metadata": {
        "id": "Eg37-hXSJR-g",
        "outputId": "4c9cc76e-b3b3-498c-c1e1-b9cb37b3b78b",
        "colab": {
          "base_uri": "https://localhost:8080/",
          "height": 35
        }
      },
      "source": [
        "from google.colab import drive\n",
        "drive.mount('/content/drive/')"
      ],
      "execution_count": 4,
      "outputs": [
        {
          "output_type": "stream",
          "text": [
            "Mounted at /content/drive/\n"
          ],
          "name": "stdout"
        }
      ]
    },
    {
      "cell_type": "code",
      "metadata": {
        "id": "0OhLxCWkJkbF",
        "outputId": "1f393e89-e79e-45cb-8845-a9b77338e9b4",
        "colab": {
          "base_uri": "https://localhost:8080/",
          "height": 53
        }
      },
      "source": [
        "!ls \"/content/drive/My Drive/\"\n",
        "!pwd"
      ],
      "execution_count": 5,
      "outputs": [
        {
          "output_type": "stream",
          "text": [
            " 2005届计算机科学与技术专业校友花名册.gsheet  'Colab Notebooks'\n",
            "/content\n"
          ],
          "name": "stdout"
        }
      ]
    },
    {
      "cell_type": "code",
      "metadata": {
        "id": "9JG-lCb3-Pwp",
        "outputId": "0362604f-ecb4-4c37-c730-68247715eb49",
        "colab": {
          "base_uri": "https://localhost:8080/",
          "height": 305
        }
      },
      "source": [
        "!/opt/bin/nvidia-smi"
      ],
      "execution_count": 6,
      "outputs": [
        {
          "output_type": "stream",
          "text": [
            "Fri Oct 23 14:59:44 2020       \n",
            "+-----------------------------------------------------------------------------+\n",
            "| NVIDIA-SMI 418.67       Driver Version: 418.67       CUDA Version: 10.1     |\n",
            "|-------------------------------+----------------------+----------------------+\n",
            "| GPU  Name        Persistence-M| Bus-Id        Disp.A | Volatile Uncorr. ECC |\n",
            "| Fan  Temp  Perf  Pwr:Usage/Cap|         Memory-Usage | GPU-Util  Compute M. |\n",
            "|===============================+======================+======================|\n",
            "|   0  Tesla K80           Off  | 00000000:00:04.0 Off |                    0 |\n",
            "| N/A   73C    P0    72W / 149W |    369MiB / 11441MiB |      0%      Default |\n",
            "+-------------------------------+----------------------+----------------------+\n",
            "                                                                               \n",
            "+-----------------------------------------------------------------------------+\n",
            "| Processes:                                                       GPU Memory |\n",
            "|  GPU       PID   Type   Process name                             Usage      |\n",
            "|=============================================================================|\n",
            "+-----------------------------------------------------------------------------+\n"
          ],
          "name": "stdout"
        }
      ]
    },
    {
      "cell_type": "code",
      "metadata": {
        "id": "pD7-kcTM9ydd",
        "outputId": "c343c010-ac60-4a84-fb7e-68ea8b21fb5d",
        "colab": {
          "base_uri": "https://localhost:8080/",
          "height": 71
        }
      },
      "source": [
        "import torch\n",
        "\n",
        "X, W_xh = torch.randn(3, 1), torch.randn(1, 4)\n",
        "H, W_hh = torch.randn(3, 4), torch.randn(4, 4)\n",
        "torch.matmul(X, W_xh) + torch.matmul(H, W_hh)"
      ],
      "execution_count": null,
      "outputs": [
        {
          "output_type": "execute_result",
          "data": {
            "text/plain": [
              "tensor([[ 3.5965,  2.6176, -0.9681, -0.6186],\n",
              "        [-0.1507, -0.3659, -2.5355,  0.2021],\n",
              "        [ 0.7153, -0.0678,  2.6344, -2.8102]])"
            ]
          },
          "metadata": {
            "tags": []
          },
          "execution_count": 8
        }
      ]
    },
    {
      "cell_type": "code",
      "metadata": {
        "id": "nGmSJduj-J9U",
        "outputId": "86c5c9c8-6959-4e7b-9395-d61559af6b08",
        "colab": {
          "base_uri": "https://localhost:8080/",
          "height": 71
        }
      },
      "source": [
        "torch.matmul(torch.cat((X, H), dim=1), torch.cat((W_xh, W_hh), dim=0))"
      ],
      "execution_count": null,
      "outputs": [
        {
          "output_type": "execute_result",
          "data": {
            "text/plain": [
              "tensor([[ 3.5965,  2.6176, -0.9681, -0.6186],\n",
              "        [-0.1507, -0.3659, -2.5355,  0.2021],\n",
              "        [ 0.7153, -0.0678,  2.6344, -2.8102]])"
            ]
          },
          "metadata": {
            "tags": []
          },
          "execution_count": 9
        }
      ]
    },
    {
      "cell_type": "code",
      "metadata": {
        "id": "VWyv_luYCPia",
        "outputId": "95b66a32-7024-45ba-be12-b1ad76f33d47",
        "colab": {
          "base_uri": "https://localhost:8080/",
          "height": 215
        }
      },
      "source": [
        "import torch\n",
        "import numpy as np\n",
        "from __future__ import print_function\n",
        "\n",
        "a = torch.ones((2,), dtype=torch.int8)\n",
        "b = torch.ones(2, dtype=torch.int8)\n",
        "print(a)\n",
        "print(a.dtype)\n",
        "print(b)\n",
        "print(b.dtype)\n",
        "c = np.zeros([3,4], dtype=np.float32)\n",
        "print(c)\n",
        "d = torch.from_numpy(c)\n",
        "c[0][0] = 5\n",
        "print(d)\n",
        "print(d.dtype)"
      ],
      "execution_count": null,
      "outputs": [
        {
          "output_type": "stream",
          "text": [
            "tensor([1, 1], dtype=torch.int8)\n",
            "torch.int8\n",
            "tensor([1, 1], dtype=torch.int8)\n",
            "torch.int8\n",
            "[[0. 0. 0. 0.]\n",
            " [0. 0. 0. 0.]\n",
            " [0. 0. 0. 0.]]\n",
            "tensor([[5., 0., 0., 0.],\n",
            "        [0., 0., 0., 0.],\n",
            "        [0., 0., 0., 0.]])\n",
            "torch.float32\n"
          ],
          "name": "stdout"
        }
      ]
    },
    {
      "cell_type": "code",
      "metadata": {
        "id": "Yi1ZQBm1JN00",
        "outputId": "9891f6dc-1376-4d8d-8a60-e65e908877b0",
        "colab": {
          "base_uri": "https://localhost:8080/",
          "height": 71
        }
      },
      "source": [
        "print(torch.cuda.is_available())\n",
        "device = torch.device(\"cuda\")      # a CUDA device object\n",
        "x = torch.randn(1)\n",
        "y = torch.ones_like(x, device=device)  # directly create a tensor on GPU\n",
        "x = x.to(device)             # or just use strings ``.to(\"cuda\")``\n",
        "z = x + y\n",
        "print(z)\n",
        "print(z.to(\"cpu\", torch.float64))     # ``.to`` can also change dtype together!"
      ],
      "execution_count": null,
      "outputs": [
        {
          "output_type": "stream",
          "text": [
            "True\n",
            "tensor([-0.2223], device='cuda:0')\n",
            "tensor([-0.2223], dtype=torch.float64)\n"
          ],
          "name": "stdout"
        }
      ]
    },
    {
      "cell_type": "code",
      "metadata": {
        "id": "lZfXysJEKE1R",
        "outputId": "e2f4fb8a-adb3-4132-e7d7-622ea62c2c3c",
        "colab": {
          "base_uri": "https://localhost:8080/",
          "height": 35
        }
      },
      "source": [
        "x = torch.randn(4,4)\n",
        "y = x.view(16)\n",
        "z = x.view(-1, 8)\n",
        "\n",
        "print(x.size(), y.size(), z.size())"
      ],
      "execution_count": null,
      "outputs": [
        {
          "output_type": "stream",
          "text": [
            "torch.Size([4, 4]) torch.Size([16]) torch.Size([2, 8])\n"
          ],
          "name": "stdout"
        }
      ]
    },
    {
      "cell_type": "code",
      "metadata": {
        "id": "P4pz-5GVNEGR",
        "outputId": "1b376e61-e2c6-44f0-fa89-6c945df92897",
        "colab": {
          "base_uri": "https://localhost:8080/",
          "height": 53
        }
      },
      "source": [
        "x = torch.tensor(1.0, requires_grad=True)\n",
        "y = 2 * x\n",
        "print(y.grad_fn)\n",
        "y.backward()\n",
        "print(x.grad)"
      ],
      "execution_count": null,
      "outputs": [
        {
          "output_type": "stream",
          "text": [
            "<MulBackward0 object at 0x7f49c4a08a58>\n",
            "tensor(2.)\n"
          ],
          "name": "stdout"
        }
      ]
    },
    {
      "cell_type": "code",
      "metadata": {
        "id": "9a6yyWq7Gp_E",
        "outputId": "99c588c3-0dbb-427a-fc4b-8588705f4dfc",
        "colab": {
          "base_uri": "https://localhost:8080/",
          "height": 179
        }
      },
      "source": [
        "import torch\n",
        "import numpy as np\n",
        "#from __future__ import print_function\n",
        "x = torch.tensor([1, 2, 3, 4])\n",
        "print(x)\n",
        "print(x.size())\n",
        "y = torch.unsqueeze(x, 0)\n",
        "print(y)\n",
        "print(y.size())\n",
        "z = torch.unsqueeze(x, 1)\n",
        "print(z)\n",
        "print(z.size())"
      ],
      "execution_count": null,
      "outputs": [
        {
          "output_type": "stream",
          "text": [
            "tensor([1, 2, 3, 4])\n",
            "torch.Size([4])\n",
            "tensor([[1, 2, 3, 4]])\n",
            "torch.Size([1, 4])\n",
            "tensor([[1],\n",
            "        [2],\n",
            "        [3],\n",
            "        [4]])\n",
            "torch.Size([4, 1])\n"
          ],
          "name": "stdout"
        }
      ]
    },
    {
      "cell_type": "code",
      "metadata": {
        "id": "6BYyw1COnE-v",
        "outputId": "03c5ed47-c222-436b-ef17-6852be4648a0",
        "colab": {
          "base_uri": "https://localhost:8080/",
          "height": 89
        }
      },
      "source": [
        "import torch\n",
        "import torch.nn as nn\n",
        "\n",
        "class LinearNet(nn.Module):\n",
        "    def __init__(self,n_feature):\n",
        "        super().__init__()\n",
        "        self.linear = nn.Linear(n_feature,1)\n",
        "    def forward(self, x):\n",
        "        y = self.linear(x)\n",
        "        return y\n",
        "\n",
        "mynet = LinearNet(2).cuda()\n",
        "print(mynet)\n",
        "\n",
        "x = torch.Tensor([1, 2]).cuda()\n",
        "# print(x)\n",
        "\n",
        "y = mynet(x)\n",
        "print(y)"
      ],
      "execution_count": 2,
      "outputs": [
        {
          "output_type": "stream",
          "text": [
            "LinearNet(\n",
            "  (linear): Linear(in_features=2, out_features=1, bias=True)\n",
            ")\n",
            "tensor([-1.6237], device='cuda:0', grad_fn=<AddBackward0>)\n"
          ],
          "name": "stdout"
        }
      ]
    }
  ]
}